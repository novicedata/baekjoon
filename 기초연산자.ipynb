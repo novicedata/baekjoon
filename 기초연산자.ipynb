{
  "cells": [
    {
      "cell_type": "markdown",
      "metadata": {
        "id": "view-in-github",
        "colab_type": "text"
      },
      "source": [
        "<a href=\"https://colab.research.google.com/github/novicedata/colab_practice/blob/main/%EA%B8%B0%EC%B4%88%EC%97%B0%EC%82%B0%EC%9E%90.ipynb\" target=\"_parent\"><img src=\"https://colab.research.google.com/assets/colab-badge.svg\" alt=\"Open In Colab\"/></a>"
      ]
    },
    {
      "cell_type": "code",
      "source": [
        "a = 5\n",
        "b = 20\n",
        "\n",
        "print(a > b) # 크다\n",
        "\n",
        "print(a >= b) # 크거나 같다\n",
        "\n",
        "print(a < b) # 작다\n",
        "\n",
        "print(a <= b) # 작거나 같다\n",
        "\n",
        "print(a == b) # 같다\n",
        "\n",
        "print(a != b) #다르다"
      ],
      "metadata": {
        "id": "S1jql1i5Gr4c",
        "outputId": "26c9f2f4-88ca-4883-c6fe-d5c76ff9ac66",
        "colab": {
          "base_uri": "https://localhost:8080/"
        }
      },
      "execution_count": 1,
      "outputs": [
        {
          "output_type": "stream",
          "name": "stdout",
          "text": [
            "False\n",
            "False\n",
            "True\n",
            "True\n",
            "False\n",
            "True\n"
          ]
        }
      ]
    }
  ],
  "metadata": {
    "colab": {
      "name": "Colaboratory에 오신 것을 환영합니다",
      "toc_visible": true,
      "provenance": [],
      "include_colab_link": true
    },
    "kernelspec": {
      "display_name": "Python 3",
      "name": "python3"
    }
  },
  "nbformat": 4,
  "nbformat_minor": 0
}