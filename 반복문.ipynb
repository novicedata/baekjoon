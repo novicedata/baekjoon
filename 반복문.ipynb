{
  "cells": [
    {
      "cell_type": "markdown",
      "metadata": {
        "id": "view-in-github",
        "colab_type": "text"
      },
      "source": [
        "<a href=\"https://colab.research.google.com/github/novicedata/colab_practice/blob/main/%EB%B0%98%EB%B3%B5%EB%AC%B8.ipynb\" target=\"_parent\"><img src=\"https://colab.research.google.com/assets/colab-badge.svg\" alt=\"Open In Colab\"/></a>"
      ]
    },
    {
      "cell_type": "code",
      "source": [
        "i = 0\n",
        "\n",
        "while i < 5:\n",
        "  print('i는 ', i, '입니다.')\n",
        "  i = i+1\n"
      ],
      "metadata": {
        "id": "cIHKIsV76eCH",
        "outputId": "65144fa6-55a3-40d5-9e7c-8fdf9cbea93e",
        "colab": {
          "base_uri": "https://localhost:8080/"
        }
      },
      "execution_count": 1,
      "outputs": [
        {
          "output_type": "stream",
          "name": "stdout",
          "text": [
            "i는  0 입니다.\n",
            "i는  1 입니다.\n",
            "i는  2 입니다.\n",
            "i는  3 입니다.\n",
            "i는  4 입니다.\n"
          ]
        }
      ]
    },
    {
      "cell_type": "code",
      "source": [
        "for i in [0,1,2,3,4]:\n",
        "  print('i는', i, '입니다.')"
      ],
      "metadata": {
        "id": "3H2L--018gqI",
        "outputId": "3efec55f-9476-468b-fb9b-32acebbe2bc4",
        "colab": {
          "base_uri": "https://localhost:8080/"
        }
      },
      "execution_count": 4,
      "outputs": [
        {
          "output_type": "stream",
          "name": "stdout",
          "text": [
            "i는 0 입니다.\n",
            "i는 1 입니다.\n",
            "i는 2 입니다.\n",
            "i는 3 입니다.\n",
            "i는 4 입니다.\n"
          ]
        }
      ]
    },
    {
      "cell_type": "code",
      "source": [
        "for i in range(5):\n",
        "  print('i는', i, '입니다.')"
      ],
      "metadata": {
        "id": "4cI4wesk9LJH",
        "outputId": "863fae7f-0cce-4ca5-f453-85c12895943b",
        "colab": {
          "base_uri": "https://localhost:8080/"
        }
      },
      "execution_count": 8,
      "outputs": [
        {
          "output_type": "stream",
          "name": "stdout",
          "text": [
            "i는 0 입니다.\n",
            "i는 1 입니다.\n",
            "i는 2 입니다.\n",
            "i는 3 입니다.\n",
            "i는 4 입니다.\n"
          ]
        }
      ]
    }
  ],
  "metadata": {
    "colab": {
      "name": "Colaboratory에 오신 것을 환영합니다",
      "provenance": [],
      "include_colab_link": true
    },
    "kernelspec": {
      "display_name": "Python 3",
      "name": "python3"
    }
  },
  "nbformat": 4,
  "nbformat_minor": 0
}