{
  "cells": [
    {
      "cell_type": "markdown",
      "metadata": {
        "id": "view-in-github",
        "colab_type": "text"
      },
      "source": [
        "<a href=\"https://colab.research.google.com/github/novicedata/colab_practice/blob/main/list%20%ED%83%80%EC%9E%85.ipynb\" target=\"_parent\"><img src=\"https://colab.research.google.com/assets/colab-badge.svg\" alt=\"Open In Colab\"/></a>"
      ]
    },
    {
      "cell_type": "code",
      "source": [
        "# 리스트\n",
        "list1 = [1, 2.4, 'pizza', True]\n",
        "\n",
        "\n",
        "for i in list1:\n",
        "  print(i)"
      ],
      "metadata": {
        "id": "Jp6vYmrzRz7u",
        "outputId": "3a9cf2ed-4548-4d3f-a4c6-dc7a8a0ab5d0",
        "colab": {
          "base_uri": "https://localhost:8080/"
        }
      },
      "execution_count": 1,
      "outputs": [
        {
          "output_type": "stream",
          "name": "stdout",
          "text": [
            "1\n",
            "2.4\n",
            "pizza\n",
            "True\n"
          ]
        }
      ]
    },
    {
      "cell_type": "code",
      "source": [
        "# 리스트 인덱싱\n",
        "apex = [1, 2, 3, [4, 5, 6]]\n",
        "\n",
        "apex[0]"
      ],
      "metadata": {
        "id": "sVogcut2S33h",
        "outputId": "e98913bc-2885-4c4c-b8e2-b38f64852912",
        "colab": {
          "base_uri": "https://localhost:8080/"
        }
      },
      "execution_count": 4,
      "outputs": [
        {
          "output_type": "execute_result",
          "data": {
            "text/plain": [
              "1"
            ]
          },
          "metadata": {},
          "execution_count": 4
        }
      ]
    },
    {
      "cell_type": "code",
      "source": [
        "apex[3]\n",
        "\n",
        "apex[3][1]"
      ],
      "metadata": {
        "id": "JYulz_wCTRsZ",
        "outputId": "ba17d1b4-2c63-445f-e804-ed606478ad52",
        "colab": {
          "base_uri": "https://localhost:8080/"
        }
      },
      "execution_count": 6,
      "outputs": [
        {
          "output_type": "execute_result",
          "data": {
            "text/plain": [
              "5"
            ]
          },
          "metadata": {},
          "execution_count": 6
        }
      ]
    },
    {
      "cell_type": "code",
      "source": [
        "# 리스트 변경\n",
        "apex[3] = 'life'\n",
        "apex"
      ],
      "metadata": {
        "id": "1h5T5XWrUp8S",
        "outputId": "9185ae65-357e-485f-84f1-335b7979bb43",
        "colab": {
          "base_uri": "https://localhost:8080/"
        }
      },
      "execution_count": 9,
      "outputs": [
        {
          "output_type": "execute_result",
          "data": {
            "text/plain": [
              "[1, 2, 3, 'life']"
            ]
          },
          "metadata": {},
          "execution_count": 9
        }
      ]
    },
    {
      "cell_type": "code",
      "source": [
        "# 리스트 더하기\n",
        "food = ['pizza', 'is']\n",
        "mood = ['good', 'food']\n",
        "\n",
        "food + mood"
      ],
      "metadata": {
        "id": "Ua2eAac3T6Dh",
        "outputId": "180947d4-a5f6-401b-9e15-7b0e5f3e505c",
        "colab": {
          "base_uri": "https://localhost:8080/"
        }
      },
      "execution_count": 7,
      "outputs": [
        {
          "output_type": "execute_result",
          "data": {
            "text/plain": [
              "['pizza', 'is', 'good', 'food']"
            ]
          },
          "metadata": {},
          "execution_count": 7
        }
      ]
    },
    {
      "cell_type": "code",
      "source": [
        "# 리스트 곱하기\n",
        "food * 2"
      ],
      "metadata": {
        "id": "zKT1oI-LUPR8",
        "outputId": "a18d74f9-3e2e-4071-9b80-db0714f9a26d",
        "colab": {
          "base_uri": "https://localhost:8080/"
        }
      },
      "execution_count": 8,
      "outputs": [
        {
          "output_type": "execute_result",
          "data": {
            "text/plain": [
              "['pizza', 'is', 'pizza', 'is']"
            ]
          },
          "metadata": {},
          "execution_count": 8
        }
      ]
    },
    {
      "cell_type": "code",
      "source": [
        "# 리스트 추가 append\n",
        "color = ['red', 'green', 'blue']\n",
        "color.append('black')\n",
        "\n",
        "color"
      ],
      "metadata": {
        "id": "9CW_iOOsVL76",
        "outputId": "da1269b4-a691-4ba4-9cab-bab93c14f5b1",
        "colab": {
          "base_uri": "https://localhost:8080/"
        }
      },
      "execution_count": 11,
      "outputs": [
        {
          "output_type": "execute_result",
          "data": {
            "text/plain": [
              "['red', 'green', 'blue', 'black']"
            ]
          },
          "metadata": {},
          "execution_count": 11
        }
      ]
    },
    {
      "cell_type": "code",
      "source": [
        "# 리스트 요소 추가 insert\n",
        "\n",
        "number = ['two', 'three', 'four']\n",
        "number.insert(0, 'one')\n",
        "\n",
        "number"
      ],
      "metadata": {
        "id": "Bfvtmd0GW1no",
        "outputId": "8fc4cb87-d8be-49fe-f677-32357a004073",
        "colab": {
          "base_uri": "https://localhost:8080/"
        }
      },
      "execution_count": 15,
      "outputs": [
        {
          "output_type": "execute_result",
          "data": {
            "text/plain": [
              "['one', 'two', 'three', 'four']"
            ]
          },
          "metadata": {},
          "execution_count": 15
        }
      ]
    },
    {
      "cell_type": "code",
      "source": [
        "# 리스트 요소 확장 extend\n",
        "\n",
        "a = ['one', 'two']\n",
        "a.extend(['three', 'four'])\n",
        "\n",
        "a"
      ],
      "metadata": {
        "id": "Q1Z0ho3cZ7EA",
        "outputId": "a96bc014-0fbf-417b-c635-e76449d37695",
        "colab": {
          "base_uri": "https://localhost:8080/"
        }
      },
      "execution_count": 22,
      "outputs": [
        {
          "output_type": "execute_result",
          "data": {
            "text/plain": [
              "['one', 'two', 'three', 'four']"
            ]
          },
          "metadata": {},
          "execution_count": 22
        }
      ]
    },
    {
      "cell_type": "code",
      "source": [
        "# 리스트 요소 제거 del\n",
        "del color[0]\n",
        "color"
      ],
      "metadata": {
        "id": "kIrFUPWaV0d5",
        "outputId": "93547fe4-3c6e-4aa9-f0f8-8753619e5cab",
        "colab": {
          "base_uri": "https://localhost:8080/"
        }
      },
      "execution_count": 12,
      "outputs": [
        {
          "output_type": "execute_result",
          "data": {
            "text/plain": [
              "['green', 'blue', 'black']"
            ]
          },
          "metadata": {},
          "execution_count": 12
        }
      ]
    },
    {
      "cell_type": "code",
      "source": [
        "# 리스트 요소 제거 remove\n",
        "a = ['one', 'two', 'three', 'four']\n",
        "a.remove('three')\n",
        "\n",
        "a"
      ],
      "metadata": {
        "id": "6G_mOZiQXoHS",
        "outputId": "99d3d0db-60a2-40f4-efee-8c264bba0fbe",
        "colab": {
          "base_uri": "https://localhost:8080/"
        }
      },
      "execution_count": 16,
      "outputs": [
        {
          "output_type": "execute_result",
          "data": {
            "text/plain": [
              "['one', 'two', 'four']"
            ]
          },
          "metadata": {},
          "execution_count": 16
        }
      ]
    },
    {
      "cell_type": "code",
      "source": [
        "# 리스트 요소 제거 pop\n",
        "\n",
        "a = ['one', 'two', 'three', 'four']\n",
        "a.pop(3)\n",
        "\n",
        "a"
      ],
      "metadata": {
        "id": "9vU7DIHEadNq",
        "outputId": "1377c8ce-8071-464c-839c-95aa0303428a",
        "colab": {
          "base_uri": "https://localhost:8080/"
        }
      },
      "execution_count": 24,
      "outputs": [
        {
          "output_type": "execute_result",
          "data": {
            "text/plain": [
              "['one', 'two', 'three']"
            ]
          },
          "metadata": {},
          "execution_count": 24
        }
      ]
    },
    {
      "cell_type": "code",
      "source": [
        "# 리스트 정렬 sort\n",
        "\n",
        "a = [3, 4, 2, 1]\n",
        "b = ['a', 'c', 'd', 'b']\n",
        "a.sort()\n",
        "b.sort()\n",
        "\n",
        "print(a, b)"
      ],
      "metadata": {
        "id": "qoz0bN7yYaDq",
        "outputId": "fb991dfd-9329-4baf-b86d-49c2bdb62293",
        "colab": {
          "base_uri": "https://localhost:8080/"
        }
      },
      "execution_count": 18,
      "outputs": [
        {
          "output_type": "stream",
          "name": "stdout",
          "text": [
            "[1, 2, 3, 4] ['a', 'b', 'c', 'd']\n"
          ]
        }
      ]
    },
    {
      "cell_type": "code",
      "source": [
        "# 리스트 거꾸로 순서 뒤집기 reverse\n",
        "\n",
        "a = ['토마토', '기러기', '산과산']\n",
        "a.reverse()\n",
        "\n",
        "a"
      ],
      "metadata": {
        "id": "GixnrlUvY2x0",
        "outputId": "0e2f8d9b-0cdf-4d50-e9ca-1e7012a153b3",
        "colab": {
          "base_uri": "https://localhost:8080/"
        }
      },
      "execution_count": 19,
      "outputs": [
        {
          "output_type": "execute_result",
          "data": {
            "text/plain": [
              "['산과산', '기러기', '토마토']"
            ]
          },
          "metadata": {},
          "execution_count": 19
        }
      ]
    },
    {
      "cell_type": "code",
      "source": [
        "# 리스트 요소 찾기 index\n",
        "\n",
        "a = ['토마토', '기러기', '산과산']\n",
        "a.index('기러기')\n"
      ],
      "metadata": {
        "id": "enKqayHXZVCh",
        "outputId": "9058a557-285d-4006-db75-9b969d067cbf",
        "colab": {
          "base_uri": "https://localhost:8080/"
        }
      },
      "execution_count": 20,
      "outputs": [
        {
          "output_type": "execute_result",
          "data": {
            "text/plain": [
              "1"
            ]
          },
          "metadata": {},
          "execution_count": 20
        }
      ]
    }
  ],
  "metadata": {
    "colab": {
      "name": "Colaboratory에 오신 것을 환영합니다",
      "provenance": [],
      "include_colab_link": true
    },
    "kernelspec": {
      "display_name": "Python 3",
      "name": "python3"
    }
  },
  "nbformat": 4,
  "nbformat_minor": 0
}