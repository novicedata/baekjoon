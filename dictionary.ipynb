{
  "cells": [
    {
      "cell_type": "markdown",
      "metadata": {
        "id": "view-in-github",
        "colab_type": "text"
      },
      "source": [
        "<a href=\"https://colab.research.google.com/github/novicedata/colab_practice/blob/main/dictionary.ipynb\" target=\"_parent\"><img src=\"https://colab.research.google.com/assets/colab-badge.svg\" alt=\"Open In Colab\"/></a>"
      ]
    },
    {
      "cell_type": "code",
      "source": [
        "monster1 = {'hp' : 500, 'power' : 23, 'speed' : 2.5, 'mana' : 50}\n",
        "monster1"
      ],
      "metadata": {
        "id": "uc7WNdfu5HIX",
        "outputId": "8b129df0-794d-4b5d-de22-a8028952163e",
        "colab": {
          "base_uri": "https://localhost:8080/"
        }
      },
      "execution_count": 2,
      "outputs": [
        {
          "output_type": "execute_result",
          "data": {
            "text/plain": [
              "{'hp': 500, 'power': 23, 'speed': 2.5, 'mana': 50}"
            ]
          },
          "metadata": {},
          "execution_count": 2
        }
      ]
    },
    {
      "cell_type": "code",
      "source": [
        "monster1['hp']"
      ],
      "metadata": {
        "id": "YM0ioCvb56FC",
        "outputId": "4b288414-5b9c-45e6-c598-b0a06c79e376",
        "colab": {
          "base_uri": "https://localhost:8080/"
        }
      },
      "execution_count": 3,
      "outputs": [
        {
          "output_type": "execute_result",
          "data": {
            "text/plain": [
              "500"
            ]
          },
          "metadata": {},
          "execution_count": 3
        }
      ]
    },
    {
      "cell_type": "code",
      "source": [
        "monster1.get('hp')"
      ],
      "metadata": {
        "id": "l7pKZqli6d2T",
        "outputId": "bf6868be-4389-4a16-9acf-2af5b1b245c1",
        "colab": {
          "base_uri": "https://localhost:8080/"
        }
      },
      "execution_count": 4,
      "outputs": [
        {
          "output_type": "execute_result",
          "data": {
            "text/plain": [
              "500"
            ]
          },
          "metadata": {},
          "execution_count": 4
        }
      ]
    },
    {
      "cell_type": "code",
      "source": [
        "score = {'수학' : 90, '국어' : 100, '사회' : 78}\n",
        "\n",
        "score['영어'] = 65\n",
        "score"
      ],
      "metadata": {
        "id": "nwA6HpvQ7iL2",
        "outputId": "6245e55f-d0aa-4c1b-961b-fb040afbb764",
        "colab": {
          "base_uri": "https://localhost:8080/"
        }
      },
      "execution_count": 6,
      "outputs": [
        {
          "output_type": "execute_result",
          "data": {
            "text/plain": [
              "{'수학': 90, '국어': 100, '사회': 78, '영어': 65}"
            ]
          },
          "metadata": {},
          "execution_count": 6
        }
      ]
    },
    {
      "cell_type": "code",
      "source": [
        "score['수학'] = 10\n",
        "score"
      ],
      "metadata": {
        "id": "ObbgIfGZ8AST",
        "outputId": "3ac90238-7410-4e76-9d4c-c7cea4111fe7",
        "colab": {
          "base_uri": "https://localhost:8080/"
        }
      },
      "execution_count": 7,
      "outputs": [
        {
          "output_type": "execute_result",
          "data": {
            "text/plain": [
              "{'수학': 10, '국어': 100, '사회': 78, '영어': 65}"
            ]
          },
          "metadata": {},
          "execution_count": 7
        }
      ]
    },
    {
      "cell_type": "code",
      "source": [
        "del score['국어']\n",
        "score"
      ],
      "metadata": {
        "id": "SQUYdciu8JoX",
        "outputId": "3ecb3a3b-9d05-47bc-cf68-44370d32ddbc",
        "colab": {
          "base_uri": "https://localhost:8080/"
        }
      },
      "execution_count": 8,
      "outputs": [
        {
          "output_type": "execute_result",
          "data": {
            "text/plain": [
              "{'수학': 10, '사회': 78, '영어': 65}"
            ]
          },
          "metadata": {},
          "execution_count": 8
        }
      ]
    }
  ],
  "metadata": {
    "colab": {
      "name": "Colaboratory에 오신 것을 환영합니다",
      "provenance": [],
      "include_colab_link": true
    },
    "kernelspec": {
      "display_name": "Python 3",
      "name": "python3"
    }
  },
  "nbformat": 4,
  "nbformat_minor": 0
}