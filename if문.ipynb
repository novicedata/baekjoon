{
  "cells": [
    {
      "cell_type": "markdown",
      "metadata": {
        "id": "view-in-github",
        "colab_type": "text"
      },
      "source": [
        "<a href=\"https://colab.research.google.com/github/novicedata/colab_practice/blob/main/if%EB%AC%B8.ipynb\" target=\"_parent\"><img src=\"https://colab.research.google.com/assets/colab-badge.svg\" alt=\"Open In Colab\"/></a>"
      ]
    },
    {
      "cell_type": "code",
      "source": [
        "money = 600\n",
        "\n",
        "if money <= 100:\n",
        "  print('100원 이하 입니다.')\n",
        "\n",
        "elif 100 < money <= 500:\n",
        "  print('100원 초과, 500원 이하 입니다.')\n",
        "\n",
        "else:\n",
        "  print('500원 초과입니다.')"
      ],
      "metadata": {
        "id": "0p0lyt0wYaYW",
        "outputId": "05e30e32-840d-4bc4-ee17-27d2472e82ab",
        "colab": {
          "base_uri": "https://localhost:8080/"
        }
      },
      "execution_count": 9,
      "outputs": [
        {
          "output_type": "stream",
          "name": "stdout",
          "text": [
            "500원 초과입니다.\n"
          ]
        }
      ]
    }
  ],
  "metadata": {
    "colab": {
      "name": "Colaboratory에 오신 것을 환영합니다",
      "provenance": [],
      "include_colab_link": true
    },
    "kernelspec": {
      "display_name": "Python 3",
      "name": "python3"
    }
  },
  "nbformat": 4,
  "nbformat_minor": 0
}