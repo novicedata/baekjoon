{
  "cells": [
    {
      "cell_type": "markdown",
      "metadata": {
        "id": "view-in-github",
        "colab_type": "text"
      },
      "source": [
        "<a href=\"https://colab.research.google.com/github/novicedata/colab_practice/blob/main/continue%2C%20break.ipynb\" target=\"_parent\"><img src=\"https://colab.research.google.com/assets/colab-badge.svg\" alt=\"Open In Colab\"/></a>"
      ]
    },
    {
      "cell_type": "code",
      "source": [
        "i = 2\n",
        "\n",
        "while True:\n",
        "  print(i,'*',i,'=', i*i)\n",
        "  if i == 4:\n",
        "    break\n",
        "\n",
        "  i = i + 1\n"
      ],
      "metadata": {
        "id": "ls37gPheBNq0",
        "outputId": "ffdb7d25-d2a9-4262-f1da-cd7f6d8aefdb",
        "colab": {
          "base_uri": "https://localhost:8080/"
        }
      },
      "execution_count": 3,
      "outputs": [
        {
          "output_type": "stream",
          "name": "stdout",
          "text": [
            "2 * 2 = 4\n",
            "3 * 3 = 9\n",
            "4 * 4 = 16\n"
          ]
        }
      ]
    },
    {
      "cell_type": "code",
      "source": [
        "i = 1\n",
        "\n",
        "while i < 6:\n",
        "  i = i + 1\n",
        "\n",
        "  if i == 4:\n",
        "    continue\n",
        "\n",
        "  print(i,'*',i,'=', i*i)\n",
        "\n",
        ""
      ],
      "metadata": {
        "id": "p_g9oBNKD70R",
        "outputId": "5b0578f5-9db4-44a9-e14e-e30e15cf3edd",
        "colab": {
          "base_uri": "https://localhost:8080/"
        }
      },
      "execution_count": 5,
      "outputs": [
        {
          "output_type": "stream",
          "name": "stdout",
          "text": [
            "2 * 2 = 4\n",
            "3 * 3 = 9\n",
            "5 * 5 = 25\n",
            "6 * 6 = 36\n"
          ]
        }
      ]
    }
  ],
  "metadata": {
    "colab": {
      "name": "Colaboratory에 오신 것을 환영합니다",
      "provenance": [],
      "include_colab_link": true
    },
    "kernelspec": {
      "display_name": "Python 3",
      "name": "python3"
    }
  },
  "nbformat": 4,
  "nbformat_minor": 0
}