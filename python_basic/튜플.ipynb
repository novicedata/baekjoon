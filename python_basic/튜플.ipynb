{
  "cells": [
    {
      "cell_type": "markdown",
      "metadata": {
        "id": "view-in-github",
        "colab_type": "text"
      },
      "source": [
        "<a href=\"https://colab.research.google.com/github/novicedata/colab_practice/blob/main/%ED%8A%9C%ED%94%8C.ipynb\" target=\"_parent\"><img src=\"https://colab.research.google.com/assets/colab-badge.svg\" alt=\"Open In Colab\"/></a>"
      ]
    },
    {
      "cell_type": "code",
      "source": [
        "# 튜플 선언하기\n",
        "\n",
        "a = ('hi', 1, 2.5, True)\n",
        "a"
      ],
      "metadata": {
        "id": "PEO92YRBPrON",
        "outputId": "3834f9f5-c618-4591-87e3-353da2f9f4d0",
        "colab": {
          "base_uri": "https://localhost:8080/"
        }
      },
      "execution_count": 1,
      "outputs": [
        {
          "output_type": "execute_result",
          "data": {
            "text/plain": [
              "('hi', 1, 2.5, True)"
            ]
          },
          "metadata": {},
          "execution_count": 1
        }
      ]
    },
    {
      "cell_type": "code",
      "source": [
        "# 튜플 요소 불러오기\n",
        "\n",
        "a[0]\n",
        "a[1:3]"
      ],
      "metadata": {
        "id": "EDKaFLkoQcmi",
        "outputId": "cc440376-b5a4-43d3-855d-2016e463cb2b",
        "colab": {
          "base_uri": "https://localhost:8080/"
        }
      },
      "execution_count": 4,
      "outputs": [
        {
          "output_type": "execute_result",
          "data": {
            "text/plain": [
              "(1, 2.5)"
            ]
          },
          "metadata": {},
          "execution_count": 4
        }
      ]
    },
    {
      "cell_type": "code",
      "source": [
        "# 패킹\n",
        "\n",
        "tuple1 = 'hi', 1.45, True\n",
        "tuple1"
      ],
      "metadata": {
        "id": "p7QJA676RfcR",
        "outputId": "303eb8d2-6b7b-48d5-c8af-911a8e2b45d9",
        "colab": {
          "base_uri": "https://localhost:8080/"
        }
      },
      "execution_count": 6,
      "outputs": [
        {
          "output_type": "execute_result",
          "data": {
            "text/plain": [
              "('hi', 1.45, True)"
            ]
          },
          "metadata": {},
          "execution_count": 6
        }
      ]
    },
    {
      "cell_type": "code",
      "source": [
        "# 언패킹\n",
        "\n",
        "a, b, c = tuple1\n",
        "print(a, b, c)"
      ],
      "metadata": {
        "id": "ZtIl8ZvpSTZd",
        "outputId": "697146e5-4020-45ce-d4ca-4bb11bd0cf02",
        "colab": {
          "base_uri": "https://localhost:8080/"
        }
      },
      "execution_count": 7,
      "outputs": [
        {
          "output_type": "stream",
          "name": "stdout",
          "text": [
            "hi 1.45 True\n"
          ]
        }
      ]
    }
  ],
  "metadata": {
    "colab": {
      "name": "Colaboratory에 오신 것을 환영합니다",
      "provenance": [],
      "include_colab_link": true
    },
    "kernelspec": {
      "display_name": "Python 3",
      "name": "python3"
    }
  },
  "nbformat": 4,
  "nbformat_minor": 0
}
