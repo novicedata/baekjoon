{
  "nbformat": 4,
  "nbformat_minor": 0,
  "metadata": {
    "colab": {
      "provenance": [],
      "authorship_tag": "ABX9TyMgaheGzHkAGvNboZDUiNZk",
      "include_colab_link": true
    },
    "kernelspec": {
      "name": "python3",
      "display_name": "Python 3"
    },
    "language_info": {
      "name": "python"
    }
  },
  "cells": [
    {
      "cell_type": "markdown",
      "metadata": {
        "id": "view-in-github",
        "colab_type": "text"
      },
      "source": [
        "<a href=\"https://colab.research.google.com/github/novicedata/colab_practice/blob/main/Untitled4.ipynb\" target=\"_parent\"><img src=\"https://colab.research.google.com/assets/colab-badge.svg\" alt=\"Open In Colab\"/></a>"
      ]
    },
    {
      "cell_type": "code",
      "execution_count": null,
      "metadata": {
        "colab": {
          "base_uri": "https://localhost:8080/"
        },
        "id": "3A_Up-07-Epe",
        "outputId": "58006f3c-54ba-4926-e8c0-deedbf7d4888"
      },
      "outputs": [
        {
          "output_type": "stream",
          "name": "stdout",
          "text": [
            "14 <class 'int'>\n"
          ]
        }
      ],
      "source": [
        "a = 14\n",
        "print(a, type(a))"
      ]
    },
    {
      "cell_type": "code",
      "source": [
        "b = 14.0\n",
        "print(b, type(b))"
      ],
      "metadata": {
        "colab": {
          "base_uri": "https://localhost:8080/"
        },
        "id": "TciDItc7-Y6D",
        "outputId": "fef04d73-5aa8-4709-dd5e-0610352e9e04"
      },
      "execution_count": null,
      "outputs": [
        {
          "output_type": "stream",
          "name": "stdout",
          "text": [
            "14.0 <class 'float'>\n"
          ]
        }
      ]
    },
    {
      "cell_type": "code",
      "source": [
        "c = '십사'\n",
        "print(c, type(c))"
      ],
      "metadata": {
        "colab": {
          "base_uri": "https://localhost:8080/"
        },
        "id": "1YO-kLDw-SPQ",
        "outputId": "92b1f1bf-5baf-465f-e3d6-8cd5d32caf01"
      },
      "execution_count": null,
      "outputs": [
        {
          "output_type": "stream",
          "name": "stdout",
          "text": [
            "십사 <class 'str'>\n"
          ]
        }
      ]
    },
    {
      "cell_type": "code",
      "source": [
        "print(13 + 3) # 더하기\n",
        "print(13 - 3) # 빼기\n",
        "print(13 * 3) # 곱하기\n",
        "print(13 / 2) # 나누기\n",
        "print(13 // 2) # 몫만 나오게\n",
        "print(13 % 2) # 나머지마 나오게"
      ],
      "metadata": {
        "colab": {
          "base_uri": "https://localhost:8080/"
        },
        "id": "zxg6p8qM-guy",
        "outputId": "f16efa88-9594-4517-e4e6-a8bff3bd87d5"
      },
      "execution_count": null,
      "outputs": [
        {
          "output_type": "stream",
          "name": "stdout",
          "text": [
            "16\n",
            "10\n",
            "39\n",
            "6.5\n",
            "6\n",
            "1\n"
          ]
        }
      ]
    }
  ]
}