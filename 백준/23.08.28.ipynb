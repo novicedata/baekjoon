{
  "cells": [
    {
      "cell_type": "markdown",
      "metadata": {
        "id": "view-in-github",
        "colab_type": "text"
      },
      "source": [
        "<a href=\"https://colab.research.google.com/github/novicedata/colab_practice/blob/main/%EB%B0%B1%EC%A4%80/23.08.28.ipynb\" target=\"_parent\"><img src=\"https://colab.research.google.com/assets/colab-badge.svg\" alt=\"Open In Colab\"/></a>"
      ]
    },
    {
      "cell_type": "code",
      "source": [
        "# 10926번 ??!\n",
        "\n",
        "id = input()\n",
        "print(f'{id}??!')"
      ],
      "metadata": {
        "id": "RLHEd1gGQZWg",
        "outputId": "2e860c92-eeae-45d6-e81f-c803da95b030",
        "colab": {
          "base_uri": "https://localhost:8080/"
        }
      },
      "execution_count": 2,
      "outputs": [
        {
          "output_type": "stream",
          "name": "stdout",
          "text": [
            "joonas\n",
            "joonas??!\n"
          ]
        }
      ]
    },
    {
      "cell_type": "code",
      "source": [
        "# 18108번 1998년생인 내가 태국에서는 2541년생?!\n",
        "\n",
        "years = int(input()) - 543\n",
        "print(years)"
      ],
      "metadata": {
        "id": "UiZ6D9roQ2uX",
        "outputId": "aa8c8ae7-82e2-41a7-bf91-f984cd72f870",
        "colab": {
          "base_uri": "https://localhost:8080/"
        }
      },
      "execution_count": 7,
      "outputs": [
        {
          "output_type": "stream",
          "name": "stdout",
          "text": [
            "2541\n",
            "1998\n"
          ]
        }
      ]
    },
    {
      "cell_type": "code",
      "source": [
        "# 11382번 꼬마 정민\n",
        "\n",
        "A = sum(map(int, input().split()))\n",
        "print(A)"
      ],
      "metadata": {
        "id": "FBUPD5svRHRq",
        "outputId": "8160ffcf-159d-4e7d-d58a-85437339f44d",
        "colab": {
          "base_uri": "https://localhost:8080/"
        }
      },
      "execution_count": 8,
      "outputs": [
        {
          "output_type": "stream",
          "name": "stdout",
          "text": [
            "77 77 7777\n",
            "7931\n"
          ]
        }
      ]
    },
    {
      "cell_type": "code",
      "source": [
        "# 10171번 고양이\n",
        "\n",
        "print(\"\\\\    /\\\\ \\n )  ( ') \\n(  /  ) \\n \\(__)|\")"
      ],
      "metadata": {
        "id": "onS741ilRuI7",
        "outputId": "4da7234f-4a98-461a-938f-c05c817cf0c7",
        "colab": {
          "base_uri": "https://localhost:8080/"
        }
      },
      "execution_count": 19,
      "outputs": [
        {
          "output_type": "stream",
          "name": "stdout",
          "text": [
            "\\    /\\ \n",
            " )  ( ') \n",
            "(  /  ) \n",
            " \\(__)|\n"
          ]
        }
      ]
    },
    {
      "cell_type": "code",
      "source": [
        "# 10172번 개\n",
        "\n",
        "print('|\\_/| \\n|q p|   /} \\n( 0 )\"\"\"\\ \\n|\"^\"`    | \\n||_/=\\\\\\__|')"
      ],
      "metadata": {
        "id": "p0reY9CKSklF",
        "outputId": "2aa17d36-eaad-40e4-e5c4-3d432c62d317",
        "colab": {
          "base_uri": "https://localhost:8080/"
        }
      },
      "execution_count": 25,
      "outputs": [
        {
          "output_type": "stream",
          "name": "stdout",
          "text": [
            "|\\_/| \n",
            "|q p|   /} \n",
            "( 0 )\"\"\"\\ \n",
            "|\"^\"`    | \n",
            "||_/=\\\\__|\n"
          ]
        }
      ]
    },
    {
      "cell_type": "code",
      "source": [
        "# 1330번 두 수 비교하기\n",
        "\n",
        "A, B = map(int, input().split())\n",
        "if A > B:\n",
        "  print('>')\n",
        "\n",
        "elif A < B:\n",
        "  print('<')\n",
        "\n",
        "else:\n",
        "  print('==')"
      ],
      "metadata": {
        "id": "cBtks9PDTEcd",
        "outputId": "b0b45ae4-6289-4890-fd4e-f9001b95e873",
        "colab": {
          "base_uri": "https://localhost:8080/"
        }
      },
      "execution_count": 28,
      "outputs": [
        {
          "output_type": "stream",
          "name": "stdout",
          "text": [
            "5 5\n",
            "==\n"
          ]
        }
      ]
    },
    {
      "cell_type": "code",
      "source": [
        "# 9498번 시험 성적\n",
        "\n",
        "A = int(input())\n",
        "\n",
        "if A >= 90:\n",
        "  print('A')\n",
        "\n",
        "elif 80 <= A < 90:\n",
        "  print('B')\n",
        "\n",
        "elif 70 <= A < 80:\n",
        "  print('C')\n",
        "\n",
        "elif 60 <= A < 70:\n",
        "  print('D')\n",
        "\n",
        "else:\n",
        "  print('F')"
      ],
      "metadata": {
        "id": "jXsPNh4pTaaC",
        "outputId": "57594441-dcb5-4a17-cf0b-16b8c8b065f3",
        "colab": {
          "base_uri": "https://localhost:8080/"
        }
      },
      "execution_count": 32,
      "outputs": [
        {
          "output_type": "stream",
          "name": "stdout",
          "text": [
            "85\n",
            "B\n"
          ]
        }
      ]
    },
    {
      "cell_type": "code",
      "source": [
        "# 14681번 사분면 고르기\n",
        "\n",
        "x = int(input())\n",
        "y = int(input())\n",
        "\n",
        "if x > 0 and y >0:\n",
        "  print(1)\n",
        "\n",
        "elif x < 0 and y < 0:\n",
        "  print(3)\n",
        "\n",
        "elif x > 0 and y < 0:\n",
        "  print(4)\n",
        "\n",
        "else :\n",
        "  print(2)"
      ],
      "metadata": {
        "id": "XynaZzp8UBPD",
        "outputId": "b8a11fe3-c450-48b3-aa80-a6378e0aa7d4",
        "colab": {
          "base_uri": "https://localhost:8080/"
        }
      },
      "execution_count": 39,
      "outputs": [
        {
          "output_type": "stream",
          "name": "stdout",
          "text": [
            "9\n",
            "-13\n",
            "4\n"
          ]
        }
      ]
    },
    {
      "cell_type": "code",
      "source": [
        "# 2525번 오븐 시계\n",
        "\n",
        "H, M = map(int, input().split())\n",
        "oven = int(input())\n",
        "\n",
        "if M + oven >= 60:\n",
        "  print((H + (M + oven)//60)%24, (M + oven)%60)\n",
        "\n",
        "else:\n",
        "  print(H%24, M+oven)"
      ],
      "metadata": {
        "id": "srL1gf6qU1GB",
        "outputId": "8a4c581e-2084-49c8-ad83-2435e53f5843",
        "colab": {
          "base_uri": "https://localhost:8080/"
        }
      },
      "execution_count": 49,
      "outputs": [
        {
          "output_type": "stream",
          "name": "stdout",
          "text": [
            "14 30\n",
            "20\n",
            "14 50\n"
          ]
        }
      ]
    },
    {
      "cell_type": "code",
      "source": [
        "# 2480번 주사위 세개\n",
        "\n",
        "x, y, z = map(int, input().split())\n",
        "\n",
        "if x == y and y == z and x == z:\n",
        "  print(10000 + x*1000)\n",
        "\n",
        "elif x != y and y != z and x != z:\n",
        "  print(max(x, y, z)*100)\n",
        "\n",
        "else:\n",
        "  if x == y:\n",
        "    print(1000 + x*100)\n",
        "\n",
        "  else:\n",
        "    print(1000 + z*100)"
      ],
      "metadata": {
        "id": "icmkUY3IWVzz",
        "outputId": "0a369e21-e574-440f-a4a8-cea48b3f709e",
        "colab": {
          "base_uri": "https://localhost:8080/"
        }
      },
      "execution_count": 58,
      "outputs": [
        {
          "output_type": "stream",
          "name": "stdout",
          "text": [
            "3 6 3\n",
            "600\n"
          ]
        }
      ]
    },
    {
      "cell_type": "code",
      "source": [],
      "metadata": {
        "id": "gBy0Q-QoXFdJ",
        "outputId": "eb338dd6-0c96-45c0-ed20-9f6b4cdcf671",
        "colab": {
          "base_uri": "https://localhost:8080/"
        }
      },
      "execution_count": 50,
      "outputs": [
        {
          "output_type": "execute_result",
          "data": {
            "text/plain": [
              "3"
            ]
          },
          "metadata": {},
          "execution_count": 50
        }
      ]
    }
  ],
  "metadata": {
    "colab": {
      "name": "Colaboratory에 오신 것을 환영합니다",
      "provenance": [],
      "include_colab_link": true
    },
    "kernelspec": {
      "display_name": "Python 3",
      "name": "python3"
    }
  },
  "nbformat": 4,
  "nbformat_minor": 0
}