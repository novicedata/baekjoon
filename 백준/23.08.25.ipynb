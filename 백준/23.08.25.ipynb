{
  "cells": [
    {
      "cell_type": "markdown",
      "metadata": {
        "id": "view-in-github",
        "colab_type": "text"
      },
      "source": [
        "<a href=\"https://colab.research.google.com/github/novicedata/colab_practice/blob/main/%EB%B0%B1%EC%A4%80/23.08.25.ipynb\" target=\"_parent\"><img src=\"https://colab.research.google.com/assets/colab-badge.svg\" alt=\"Open In Colab\"/></a>"
      ]
    },
    {
      "cell_type": "code",
      "source": [
        "# 11021번 A+B -7\n",
        "\n",
        "T = int(input())\n",
        "\n",
        "for i in range(T):\n",
        "  A, B = map(int, input().split())\n",
        "  print(f'Case #{i+1}: {A+B}')"
      ],
      "metadata": {
        "id": "MrctgqUflZb8",
        "outputId": "7c10f4fc-3af9-4cbc-97ad-75a151652eaa",
        "colab": {
          "base_uri": "https://localhost:8080/"
        }
      },
      "execution_count": 9,
      "outputs": [
        {
          "output_type": "stream",
          "name": "stdout",
          "text": [
            "1\n",
            "1 1\n",
            "Case #1: 2\n"
          ]
        }
      ]
    },
    {
      "cell_type": "code",
      "source": [
        "# 11022번 A+B -8\n",
        "\n",
        "T = int(input())\n",
        "\n",
        "for i in range(T):\n",
        "  A, B = map(int, input().split())\n",
        "  print(f'Case #{i+1}: {A} + {B} = {A+B}')"
      ],
      "metadata": {
        "id": "JAq7WBTOm8ke",
        "outputId": "8b1ebe19-9613-4a44-ece9-4519d1981c80",
        "colab": {
          "base_uri": "https://localhost:8080/"
        }
      },
      "execution_count": 10,
      "outputs": [
        {
          "output_type": "stream",
          "name": "stdout",
          "text": [
            "5\n",
            "1 1\n",
            "Case #1: 1 + 1 = 2\n",
            "2 3\n",
            "Case #2: 2 + 3 = 5\n",
            "3 4\n",
            "Case #3: 3 + 4 = 7\n",
            "9 8\n",
            "Case #4: 9 + 8 = 17\n",
            "5 2\n",
            "Case #5: 5 + 2 = 7\n"
          ]
        }
      ]
    },
    {
      "cell_type": "code",
      "source": [
        "# 10951번 A+B -4\n",
        "while True:\n",
        "  try:\n",
        "    A, B = map(int, input().split())\n",
        "    print(A+B)\n",
        "\n",
        "  except:\n",
        "    break"
      ],
      "metadata": {
        "id": "PqpIfdAdnT4m",
        "outputId": "1ef78649-f6cc-40ef-c436-2d7ca30ac3b3",
        "colab": {
          "base_uri": "https://localhost:8080/"
        }
      },
      "execution_count": 20,
      "outputs": [
        {
          "name": "stdout",
          "output_type": "stream",
          "text": [
            "1 1\n",
            "2\n",
            "\n"
          ]
        }
      ]
    }
  ],
  "metadata": {
    "colab": {
      "name": "Colaboratory에 오신 것을 환영합니다",
      "provenance": [],
      "include_colab_link": true
    },
    "kernelspec": {
      "display_name": "Python 3",
      "name": "python3"
    }
  },
  "nbformat": 4,
  "nbformat_minor": 0
}