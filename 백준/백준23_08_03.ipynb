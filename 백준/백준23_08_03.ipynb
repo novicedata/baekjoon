{
  "cells": [
    {
      "cell_type": "markdown",
      "metadata": {
        "id": "view-in-github",
        "colab_type": "text"
      },
      "source": [
        "<a href=\"https://colab.research.google.com/github/novicedata/colab_practice/blob/main/%EB%B0%B1%EC%A4%80/%EB%B0%B1%EC%A4%8023_08_03.ipynb\" target=\"_parent\"><img src=\"https://colab.research.google.com/assets/colab-badge.svg\" alt=\"Open In Colab\"/></a>"
      ]
    },
    {
      "cell_type": "code",
      "source": [
        "# 2557번\n",
        "\n",
        "print('Hello World!')"
      ],
      "metadata": {
        "id": "fnd9ZYuGJ2o8",
        "outputId": "4259de6d-79cf-4b6f-faf4-4804deadce0d",
        "colab": {
          "base_uri": "https://localhost:8080/"
        }
      },
      "execution_count": 1,
      "outputs": [
        {
          "output_type": "stream",
          "name": "stdout",
          "text": [
            "Hello World!\n"
          ]
        }
      ]
    },
    {
      "cell_type": "code",
      "source": [
        "# 1000번\n",
        "A, B = input().split()\n",
        "x = int(A)\n",
        "y = int(B)\n",
        "\n",
        "print(x + y)"
      ],
      "metadata": {
        "id": "Mh5gICZdKUo2",
        "outputId": "474163fe-fd68-441b-a64c-40bc9ab49b14",
        "colab": {
          "base_uri": "https://localhost:8080/"
        }
      },
      "execution_count": 6,
      "outputs": [
        {
          "output_type": "stream",
          "name": "stdout",
          "text": [
            "1 2\n",
            "3\n"
          ]
        }
      ]
    },
    {
      "cell_type": "code",
      "source": [
        "# 1001번\n",
        "A, B = input().split()\n",
        "x = int(A)\n",
        "y = int(B)\n",
        "\n",
        "print(x - y)"
      ],
      "metadata": {
        "id": "m2uOGG3VL85G",
        "outputId": "8907ecfe-ad78-4545-9408-882fcdfdb7be",
        "colab": {
          "base_uri": "https://localhost:8080/"
        }
      },
      "execution_count": 7,
      "outputs": [
        {
          "output_type": "stream",
          "name": "stdout",
          "text": [
            "1 2\n",
            "-1\n"
          ]
        }
      ]
    },
    {
      "cell_type": "code",
      "source": [
        "# 10998번\n",
        "A, B = input().split()\n",
        "x = int(A)\n",
        "y - int(B)\n",
        "\n",
        "print(x * y)"
      ],
      "metadata": {
        "id": "bY3JRi51M3Qx",
        "outputId": "14ada0ae-c94b-417f-9fed-e473aa988ee8",
        "colab": {
          "base_uri": "https://localhost:8080/"
        }
      },
      "execution_count": 8,
      "outputs": [
        {
          "output_type": "stream",
          "name": "stdout",
          "text": [
            "1 2\n",
            "2\n"
          ]
        }
      ]
    },
    {
      "cell_type": "code",
      "source": [
        "# 1008번\n",
        "\n",
        "A, B= input().split()\n",
        "print(int(A)/int(B))"
      ],
      "metadata": {
        "id": "GfQaUZ-qN1mh"
      },
      "execution_count": null,
      "outputs": []
    }
  ],
  "metadata": {
    "colab": {
      "name": "Colaboratory에 오신 것을 환영합니다",
      "provenance": [],
      "include_colab_link": true
    },
    "kernelspec": {
      "display_name": "Python 3",
      "name": "python3"
    }
  },
  "nbformat": 4,
  "nbformat_minor": 0
}