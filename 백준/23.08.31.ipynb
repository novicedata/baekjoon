{
  "cells": [
    {
      "cell_type": "markdown",
      "metadata": {
        "id": "view-in-github",
        "colab_type": "text"
      },
      "source": [
        "<a href=\"https://colab.research.google.com/github/novicedata/colab_practice/blob/main/%EB%B0%B1%EC%A4%80/23.08.31.ipynb\" target=\"_parent\"><img src=\"https://colab.research.google.com/assets/colab-badge.svg\" alt=\"Open In Colab\"/></a>"
      ]
    },
    {
      "cell_type": "code",
      "source": [
        "# 3052번 나머지\n",
        "\n",
        "L = []\n",
        "S = set()\n",
        "\n",
        "for i in range(10):\n",
        "  num = int(input())%42\n",
        "  L.append(num)\n",
        "  S.add(num)\n",
        "\n",
        "print(10-len(L)+len(S))"
      ],
      "metadata": {
        "id": "feWbTzx4Ik61"
      },
      "execution_count": null,
      "outputs": []
    },
    {
      "cell_type": "code",
      "source": [
        "# 더쉬운 풀이\n",
        "\n",
        "S = set()\n",
        "for i in range(10):\n",
        "  num = int(input())%42\n",
        "  S.add(num)\n",
        "\n",
        "print(len(S))"
      ],
      "metadata": {
        "colab": {
          "base_uri": "https://localhost:8080/"
        },
        "id": "b_CEd3FWI55c",
        "outputId": "c41e3547-1783-40e6-ce6a-dd12e9685ad3"
      },
      "execution_count": 9,
      "outputs": [
        {
          "output_type": "stream",
          "name": "stdout",
          "text": [
            "1\n",
            "2\n",
            "3\n",
            "4\n",
            "5\n",
            "6\n",
            "7\n",
            "8\n",
            "9\n",
            "10\n",
            "10\n"
          ]
        }
      ]
    },
    {
      "cell_type": "code",
      "source": [
        "# 10811번 바구니 뒤집기\n",
        "\n",
        "T, N = map(int, input().split())\n",
        "L = [i+1 for i in range(T)]\n",
        "\n",
        "for x in range(N):\n",
        "  re1, re2 = map(int, input().split())\n",
        "  temp = L[re1-1:re2]\n",
        "  temp.reverse()\n",
        "  L[re1-1:re2] = temp\n",
        "\n",
        "print(*L)"
      ],
      "metadata": {
        "colab": {
          "base_uri": "https://localhost:8080/"
        },
        "id": "-4JhHkkiKon1",
        "outputId": "c21a7d9a-2227-47b5-fb24-b83c2e8f4dbd"
      },
      "execution_count": 20,
      "outputs": [
        {
          "output_type": "execute_result",
          "data": {
            "text/plain": [
              "[1, 3, 2, 4, 5]"
            ]
          },
          "metadata": {},
          "execution_count": 20
        }
      ]
    },
    {
      "cell_type": "code",
      "source": [
        "# 1546번 평균\n",
        "\n",
        "T = int(input())\n",
        "L = list(map(int, input().split()))\n",
        "maxnum = max(L)\n",
        "\n",
        "for i in range(T):\n",
        "  L[i] = L[i]/maxnum*100\n",
        "\n",
        "print(sum(L)/T)\n"
      ],
      "metadata": {
        "id": "OhiupWwzNRWm",
        "outputId": "ebf8f59b-ebfc-4aa4-b968-53e44ded6603",
        "colab": {
          "base_uri": "https://localhost:8080/"
        }
      },
      "execution_count": 47,
      "outputs": [
        {
          "output_type": "stream",
          "name": "stdout",
          "text": [
            "3\n",
            "10 20 30\n",
            "66.66666666666667\n"
          ]
        }
      ]
    }
  ],
  "metadata": {
    "colab": {
      "name": "Colaboratory에 오신 것을 환영합니다",
      "provenance": [],
      "include_colab_link": true
    },
    "kernelspec": {
      "display_name": "Python 3",
      "name": "python3"
    }
  },
  "nbformat": 4,
  "nbformat_minor": 0
}