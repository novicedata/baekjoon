{
  "nbformat": 4,
  "nbformat_minor": 0,
  "metadata": {
    "colab": {
      "provenance": [],
      "authorship_tag": "ABX9TyN1233YNdxxAqRkwRALHOAO",
      "include_colab_link": true
    },
    "kernelspec": {
      "name": "python3",
      "display_name": "Python 3"
    },
    "language_info": {
      "name": "python"
    }
  },
  "cells": [
    {
      "cell_type": "markdown",
      "metadata": {
        "id": "view-in-github",
        "colab_type": "text"
      },
      "source": [
        "<a href=\"https://colab.research.google.com/github/novicedata/colab_practice/blob/main/%EB%B0%B1%EC%A4%80/23.08.29_2.ipynb\" target=\"_parent\"><img src=\"https://colab.research.google.com/assets/colab-badge.svg\" alt=\"Open In Colab\"/></a>"
      ]
    },
    {
      "cell_type": "code",
      "execution_count": 8,
      "metadata": {
        "colab": {
          "base_uri": "https://localhost:8080/"
        },
        "id": "pA9beCLKLIQA",
        "outputId": "9ac67c38-394f-4e35-e658-ca6a96a07a06"
      },
      "outputs": [
        {
          "output_type": "stream",
          "name": "stdout",
          "text": [
            "11\n",
            "1 4 1 2 4 2 4 2 3 4 4\n",
            "2\n",
            "3\n"
          ]
        }
      ],
      "source": [
        "# 10807번 개수 세기\n",
        "\n",
        "N = int(input())\n",
        "ints = input().split()\n",
        "goal = input()\n",
        "\n",
        "result = 0\n",
        "for i in range(N):\n",
        "  if ints[i] == goal:\n",
        "    result += 1\n",
        "\n",
        "  else:\n",
        "    continue\n",
        "\n",
        "print(result)"
      ]
    },
    {
      "cell_type": "code",
      "source": [
        "# 개수세기 더 좋은 풀이\n",
        "\n",
        "N = int(input())\n",
        "ints = list(map(int, input().split()))\n",
        "goal = int(input())\n",
        "\n",
        "print(ints.count(goal))"
      ],
      "metadata": {
        "colab": {
          "base_uri": "https://localhost:8080/"
        },
        "id": "wmYWcJIIN4uS",
        "outputId": "e04d9f4f-318d-4670-9f6a-20c565c08d91"
      },
      "execution_count": 9,
      "outputs": [
        {
          "output_type": "stream",
          "name": "stdout",
          "text": [
            "11\n",
            "1 4 1 2 4 2 4 2 3 4 4\n",
            "2\n",
            "3\n"
          ]
        }
      ]
    },
    {
      "cell_type": "code",
      "source": [
        "# 10871번 X보다 작은 수\n",
        "\n",
        "N, X = map(int, input().split())\n",
        "A = list(map(int, input().split()))\n",
        "\n",
        "for i in A:\n",
        "  if X > i:\n",
        "    print(i, end=' ')\n"
      ],
      "metadata": {
        "colab": {
          "base_uri": "https://localhost:8080/"
        },
        "id": "p2_SdG5LOdTp",
        "outputId": "7dc6a0b8-aa33-4367-b6e9-0ac3966a5665"
      },
      "execution_count": 12,
      "outputs": [
        {
          "output_type": "stream",
          "name": "stdout",
          "text": [
            "10 5\n",
            "1 10 4 9 2 3 8 5 7 6\n",
            "[10, 9, 8, 7, 6]\n"
          ]
        }
      ]
    }
  ]
}