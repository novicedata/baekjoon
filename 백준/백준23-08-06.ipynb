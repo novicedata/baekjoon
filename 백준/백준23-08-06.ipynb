{
  "cells": [
    {
      "cell_type": "markdown",
      "metadata": {
        "id": "view-in-github",
        "colab_type": "text"
      },
      "source": [
        "<a href=\"https://colab.research.google.com/github/novicedata/colab_practice/blob/main/%EB%B0%B1%EC%A4%80/%EB%B0%B1%EC%A4%8023-08-06.ipynb\" target=\"_parent\"><img src=\"https://colab.research.google.com/assets/colab-badge.svg\" alt=\"Open In Colab\"/></a>"
      ]
    },
    {
      "cell_type": "code",
      "source": [
        "# 2753 윤년\n",
        "\n",
        "A = input()\n",
        "x = int(A)\n",
        "\n",
        "if x % 400 == 0:\n",
        "  print(1)\n",
        "\n",
        "elif x % 4 == 0 and x % 100 != 0:\n",
        "  print(1)\n",
        "\n",
        "else:\n",
        "  print(0)"
      ],
      "metadata": {
        "id": "utz3K1-TCBeF",
        "outputId": "e75dfc43-814a-4f5e-a665-5bfd64244c0d",
        "colab": {
          "base_uri": "https://localhost:8080/"
        }
      },
      "execution_count": 25,
      "outputs": [
        {
          "output_type": "stream",
          "name": "stdout",
          "text": [
            "1990\n",
            "0\n"
          ]
        }
      ]
    },
    {
      "cell_type": "code",
      "source": [
        "# 2753 윤년\n",
        "\n",
        "A = input()\n",
        "x = int(A)\n",
        "\n",
        "if x % 4 == 0 and x % 100 != 0 or x % 400 == 0:\n",
        "  print(1)\n",
        "\n",
        "else:\n",
        "  print(0)"
      ],
      "metadata": {
        "id": "abf_OkIEd4lz",
        "outputId": "a049e06e-46c6-4b6f-80cb-289b7fc4d998",
        "colab": {
          "base_uri": "https://localhost:8080/"
        }
      },
      "execution_count": 3,
      "outputs": [
        {
          "output_type": "stream",
          "name": "stdout",
          "text": [
            "1990\n",
            "0\n"
          ]
        }
      ]
    },
    {
      "cell_type": "code",
      "source": [
        "A = input()\n",
        "x = int(A)\n",
        "\n",
        "print(1) if x % 4 == 0 and x % 100 != 0 or x % 400 == 0 else print(0)"
      ],
      "metadata": {
        "id": "bNSnVnG4euNP",
        "outputId": "1e543197-685b-4d90-fa2b-56bf3e95a4a5",
        "colab": {
          "base_uri": "https://localhost:8080/"
        }
      },
      "execution_count": 5,
      "outputs": [
        {
          "output_type": "stream",
          "name": "stdout",
          "text": [
            "1990\n",
            "0\n"
          ]
        }
      ]
    }
  ],
  "metadata": {
    "colab": {
      "name": "Colaboratory에 오신 것을 환영합니다",
      "provenance": [],
      "include_colab_link": true
    },
    "kernelspec": {
      "display_name": "Python 3",
      "name": "python3"
    }
  },
  "nbformat": 4,
  "nbformat_minor": 0
}