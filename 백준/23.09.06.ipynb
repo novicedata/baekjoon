{
  "cells": [
    {
      "cell_type": "markdown",
      "metadata": {
        "id": "view-in-github",
        "colab_type": "text"
      },
      "source": [
        "<a href=\"https://colab.research.google.com/github/novicedata/colab_practice/blob/main/%EB%B0%B1%EC%A4%80/23.09.06.ipynb\" target=\"_parent\"><img src=\"https://colab.research.google.com/assets/colab-badge.svg\" alt=\"Open In Colab\"/></a>"
      ]
    },
    {
      "cell_type": "code",
      "source": [
        "# 27866번 문자와 문자열\n",
        "name = input()\n",
        "turn = int(input())-1\n",
        "print(name[turn])"
      ],
      "metadata": {
        "id": "OOcFYh4TZFB6"
      },
      "execution_count": null,
      "outputs": []
    },
    {
      "cell_type": "code",
      "source": [
        "# 2743번 단어 길이 재기\n",
        "\n",
        "name = input()\n",
        "print(len(name))"
      ],
      "metadata": {
        "id": "QmruN1nTZo7J"
      },
      "execution_count": null,
      "outputs": []
    },
    {
      "cell_type": "code",
      "source": [
        "# 9086번 문자열\n",
        "times = int(input())\n",
        "\n",
        "for i in range(times):\n",
        "    name = input()\n",
        "    print(f'{name[0]}{name[-1]}')"
      ],
      "metadata": {
        "id": "1-Yzj-CmagzL",
        "outputId": "7e7cfc8f-0832-47fd-dd37-c30950d9477f",
        "colab": {
          "base_uri": "https://localhost:8080/"
        }
      },
      "execution_count": 1,
      "outputs": [
        {
          "output_type": "stream",
          "name": "stdout",
          "text": [
            "3\n",
            "ACDKJFOWIEGHE\n",
            "\n",
            "O\n",
            "\n",
            "AB\n",
            "\n"
          ]
        }
      ]
    },
    {
      "cell_type": "code",
      "source": [
        "# 11654번 아스키 코드\n",
        "print(ord(input()))\n"
      ],
      "metadata": {
        "id": "BMqFji75bfnX"
      },
      "execution_count": null,
      "outputs": []
    },
    {
      "cell_type": "code",
      "source": [
        "# 11720번 숫자의 합\n",
        "num1 = int(input())\n",
        "num2 = input()\n",
        "\n",
        "result = 0\n",
        "\n",
        "for i in range(num1):\n",
        "    result += int(num2[i])\n",
        "\n",
        "print(result)\n"
      ],
      "metadata": {
        "id": "geAUqDd3cK57"
      },
      "execution_count": null,
      "outputs": []
    },
    {
      "cell_type": "code",
      "source": [
        "# 10809번 알파벳 찾기\n",
        "name = input()\n",
        "abc = 'abcdefghijklmnopqrstuvwxyz'\n",
        "\n",
        "for i in abc:\n",
        "    if i in name:\n",
        "        print(name.index(i), end=' ')\n",
        "    else:\n",
        "        print(-1, end=' ')"
      ],
      "metadata": {
        "id": "uDulLwNzeBpH"
      },
      "execution_count": null,
      "outputs": []
    },
    {
      "cell_type": "code",
      "source": [
        "# 2675번 문자열 반복\n",
        "\n",
        "T = int(input())\n",
        "\n",
        "for i in range(T):\n",
        "    R, P = input().split()\n",
        "    result = ''\n",
        "    for i in range(len(P)):\n",
        "        result += P[i]*int(R)\n",
        "    print(result)"
      ],
      "metadata": {
        "id": "Vq6XV2lygIIt"
      },
      "execution_count": null,
      "outputs": []
    },
    {
      "cell_type": "code",
      "source": [
        "# 1152번 단어의 개수\n",
        "\n",
        "name = input()\n",
        "s = name.split()\n",
        "print(len(s))"
      ],
      "metadata": {
        "id": "SfQLmmuthvKa"
      },
      "execution_count": null,
      "outputs": []
    },
    {
      "cell_type": "code",
      "source": [
        "# 2908번 상수\n",
        "\n",
        "n1, n2 = input().split()\n",
        "n1, n2 = n1[::-1], n2[::-1]\n",
        "if int(n1) > int(n2):\n",
        "    print(n1)\n",
        "else:\n",
        "    print(n2)"
      ],
      "metadata": {
        "id": "4-3Da8vHkmKJ"
      },
      "execution_count": null,
      "outputs": []
    }
  ],
  "metadata": {
    "colab": {
      "name": "Colaboratory에 오신 것을 환영합니다",
      "provenance": [],
      "include_colab_link": true
    },
    "kernelspec": {
      "display_name": "Python 3",
      "name": "python3"
    }
  },
  "nbformat": 4,
  "nbformat_minor": 0
}