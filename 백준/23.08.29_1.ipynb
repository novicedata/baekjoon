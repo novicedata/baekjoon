{
  "cells": [
    {
      "cell_type": "markdown",
      "metadata": {
        "id": "view-in-github",
        "colab_type": "text"
      },
      "source": [
        "<a href=\"https://colab.research.google.com/github/novicedata/colab_practice/blob/main/%EB%B0%B1%EC%A4%80/23.08.29_1.ipynb\" target=\"_parent\"><img src=\"https://colab.research.google.com/assets/colab-badge.svg\" alt=\"Open In Colab\"/></a>"
      ]
    },
    {
      "cell_type": "code",
      "source": [
        "# 25304번 영수증\n",
        "\n",
        "total = int(input())\n",
        "num = int(input())\n",
        "\n",
        "sum = 0\n",
        "\n",
        "for i in range(num):\n",
        "  item, count = map(int, input().split())\n",
        "  sum += item*count\n",
        "\n",
        "if sum == total:\n",
        "  print('Yes')\n",
        "\n",
        "else:\n",
        "  print('No')"
      ],
      "metadata": {
        "id": "3NX0hrNg_bx1",
        "outputId": "f8b49f38-b4f0-400f-8ec7-f756ba71b885",
        "colab": {
          "base_uri": "https://localhost:8080/"
        }
      },
      "execution_count": 3,
      "outputs": [
        {
          "output_type": "stream",
          "name": "stdout",
          "text": [
            "250000\n",
            "4\n",
            "20000 5\n",
            "30000 2\n",
            "10000 6\n",
            "5000 8\n",
            "No\n"
          ]
        }
      ]
    },
    {
      "cell_type": "code",
      "source": [
        "# 25314번 코딩은 체육 과목입니다.\n",
        "\n",
        "num = int(input())\n",
        "times = N//4\n",
        "long = 'long '*times\n",
        "print(f'{long}int')"
      ],
      "metadata": {
        "id": "Q-Qc5e2rAmGd",
        "outputId": "94e58660-58ba-4031-a0d0-5075f3e39700",
        "colab": {
          "base_uri": "https://localhost:8080/"
        }
      },
      "execution_count": 15,
      "outputs": [
        {
          "output_type": "stream",
          "name": "stdout",
          "text": [
            "20\n",
            "long long long long long int\n"
          ]
        }
      ]
    },
    {
      "cell_type": "code",
      "source": [
        "# 15552번 빠른 A+B\n",
        "\n",
        "import sys\n",
        "\n",
        "T = int(input())\n",
        "for i in range(T):\n",
        "  a, b = map(int, sys.stdin.readline().split())\n",
        "  print(a + b)"
      ],
      "metadata": {
        "id": "torsQEj8Bw3X",
        "outputId": "be0c980e-63c4-49a0-cf06-8206ee634079",
        "colab": {
          "base_uri": "https://localhost:8080/",
          "height": 258
        }
      },
      "execution_count": 19,
      "outputs": [
        {
          "name": "stdout",
          "output_type": "stream",
          "text": [
            "5\n"
          ]
        },
        {
          "output_type": "error",
          "ename": "ValueError",
          "evalue": "ignored",
          "traceback": [
            "\u001b[0;31m---------------------------------------------------------------------------\u001b[0m",
            "\u001b[0;31mValueError\u001b[0m                                Traceback (most recent call last)",
            "\u001b[0;32m<ipython-input-19-1f4f5cb282a0>\u001b[0m in \u001b[0;36m<cell line: 6>\u001b[0;34m()\u001b[0m\n\u001b[1;32m      5\u001b[0m \u001b[0mT\u001b[0m \u001b[0;34m=\u001b[0m \u001b[0mint\u001b[0m\u001b[0;34m(\u001b[0m\u001b[0minput\u001b[0m\u001b[0;34m(\u001b[0m\u001b[0;34m)\u001b[0m\u001b[0;34m)\u001b[0m\u001b[0;34m\u001b[0m\u001b[0;34m\u001b[0m\u001b[0m\n\u001b[1;32m      6\u001b[0m \u001b[0;32mfor\u001b[0m \u001b[0mi\u001b[0m \u001b[0;32min\u001b[0m \u001b[0mrange\u001b[0m\u001b[0;34m(\u001b[0m\u001b[0mT\u001b[0m\u001b[0;34m)\u001b[0m\u001b[0;34m:\u001b[0m\u001b[0;34m\u001b[0m\u001b[0;34m\u001b[0m\u001b[0m\n\u001b[0;32m----> 7\u001b[0;31m   \u001b[0ma\u001b[0m\u001b[0;34m,\u001b[0m \u001b[0mb\u001b[0m \u001b[0;34m=\u001b[0m \u001b[0mmap\u001b[0m\u001b[0;34m(\u001b[0m\u001b[0mint\u001b[0m\u001b[0;34m,\u001b[0m \u001b[0msys\u001b[0m\u001b[0;34m.\u001b[0m\u001b[0mstdin\u001b[0m\u001b[0;34m.\u001b[0m\u001b[0mreadline\u001b[0m\u001b[0;34m(\u001b[0m\u001b[0;34m)\u001b[0m\u001b[0;34m.\u001b[0m\u001b[0msplit\u001b[0m\u001b[0;34m(\u001b[0m\u001b[0;34m)\u001b[0m\u001b[0;34m)\u001b[0m\u001b[0;34m\u001b[0m\u001b[0;34m\u001b[0m\u001b[0m\n\u001b[0m\u001b[1;32m      8\u001b[0m   \u001b[0mprint\u001b[0m\u001b[0;34m(\u001b[0m\u001b[0ma\u001b[0m \u001b[0;34m+\u001b[0m \u001b[0mb\u001b[0m\u001b[0;34m)\u001b[0m\u001b[0;34m\u001b[0m\u001b[0;34m\u001b[0m\u001b[0m\n",
            "\u001b[0;31mValueError\u001b[0m: not enough values to unpack (expected 2, got 0)"
          ]
        }
      ]
    },
    {
      "cell_type": "code",
      "source": [
        "# 2438번 별 찍기 - 1\n",
        "\n",
        "T = int(input())\n",
        "\n",
        "for i in range(T):\n",
        "  print('*'*(i+1))"
      ],
      "metadata": {
        "id": "HVuNQKzQIolg",
        "outputId": "8c7e8ad3-fb67-4701-c129-8a67b9ab786a",
        "colab": {
          "base_uri": "https://localhost:8080/"
        }
      },
      "execution_count": 20,
      "outputs": [
        {
          "output_type": "stream",
          "name": "stdout",
          "text": [
            "5\n",
            "*\n",
            "**\n",
            "***\n",
            "****\n",
            "*****\n"
          ]
        }
      ]
    },
    {
      "cell_type": "code",
      "source": [
        "# 2439번 별 찍기 - 2\n",
        "\n",
        "T = int(input())\n",
        "\n",
        "for i in range(1, T+1):\n",
        "  print(' '*(T-i)+'*'*i)"
      ],
      "metadata": {
        "id": "TiztYepwJERE",
        "outputId": "df6c949c-a72a-40c1-a025-f96cb0b40aa9",
        "colab": {
          "base_uri": "https://localhost:8080/"
        }
      },
      "execution_count": 33,
      "outputs": [
        {
          "output_type": "stream",
          "name": "stdout",
          "text": [
            "5\n",
            "    *\n",
            "   **\n",
            "  ***\n",
            " ****\n",
            "*****\n"
          ]
        }
      ]
    }
  ],
  "metadata": {
    "colab": {
      "name": "Colaboratory에 오신 것을 환영합니다",
      "provenance": [],
      "include_colab_link": true
    },
    "kernelspec": {
      "display_name": "Python 3",
      "name": "python3"
    }
  },
  "nbformat": 4,
  "nbformat_minor": 0
}