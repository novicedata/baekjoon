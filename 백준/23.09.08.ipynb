{
  "cells": [
    {
      "cell_type": "markdown",
      "metadata": {
        "id": "view-in-github",
        "colab_type": "text"
      },
      "source": [
        "<a href=\"https://colab.research.google.com/github/novicedata/colab_practice/blob/main/%EB%B0%B1%EC%A4%80/23.09.08.ipynb\" target=\"_parent\"><img src=\"https://colab.research.google.com/assets/colab-badge.svg\" alt=\"Open In Colab\"/></a>"
      ]
    },
    {
      "cell_type": "code",
      "source": [
        "# 5622번 다이얼\n",
        "\n",
        "dial = ['ABC', 'DEF', 'GHI', 'JKL', 'MNO', 'PQRS', 'TUV', 'WXYZ']\n",
        "\n",
        "x = list(input())\n",
        "result = 0\n",
        "\n",
        "for i in x:\n",
        "    for j in dial:\n",
        "        if i in j:\n",
        "            result += dial.index(j) + 3\n",
        "\n",
        "print(result)"
      ],
      "metadata": {
        "id": "YFvpEq5lw_-t",
        "outputId": "1261d5d6-0bcc-4080-c6a9-0aac8a28aba3",
        "colab": {
          "base_uri": "https://localhost:8080/"
        }
      },
      "execution_count": 4,
      "outputs": [
        {
          "output_type": "stream",
          "name": "stdout",
          "text": [
            "UNUCIC\n",
            "9\n",
            "16\n",
            "25\n",
            "35\n",
            "45\n",
            "55\n",
            "55\n"
          ]
        }
      ]
    },
    {
      "cell_type": "code",
      "source": [
        "# 11718번 그대로 출력하기\n",
        "\n",
        "while True:\n",
        "    try:\n",
        "        print(input())\n",
        "\n",
        "    except:\n",
        "        break"
      ],
      "metadata": {
        "id": "Afs3SfnP7p69"
      },
      "execution_count": null,
      "outputs": []
    }
  ],
  "metadata": {
    "colab": {
      "name": "Colaboratory에 오신 것을 환영합니다",
      "provenance": [],
      "include_colab_link": true
    },
    "kernelspec": {
      "display_name": "Python 3",
      "name": "python3"
    }
  },
  "nbformat": 4,
  "nbformat_minor": 0
}